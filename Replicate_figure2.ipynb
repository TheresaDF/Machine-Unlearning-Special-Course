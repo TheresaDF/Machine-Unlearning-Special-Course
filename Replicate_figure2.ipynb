{
 "cells": [
  {
   "cell_type": "markdown",
   "metadata": {},
   "source": [
    "# Gradient Residual Norm"
   ]
  },
  {
   "cell_type": "code",
   "execution_count": 7,
   "metadata": {},
   "outputs": [],
   "source": [
    "import numpy as np \n",
    "from matplotlib import pyplot as plt \n",
    "import seaborn as snb \n",
    "snb.set_theme()\n",
    "snb.set(font_scale = 1.5)"
   ]
  },
  {
   "cell_type": "markdown",
   "metadata": {},
   "source": [
    "## Read / compute norms "
   ]
  },
  {
   "cell_type": "code",
   "execution_count": 8,
   "metadata": {},
   "outputs": [],
   "source": [
    "# theoretical norms \n",
    "gamma = 0.25 \n",
    "C = 1\n",
    "lam = 1e-3\n",
    "m = 10\n",
    "N = 11000\n",
    "supported_removals = np.arange(10, 1010, step = 10)\n",
    "\n",
    "single_theoretic_norm = [np.sum(4 * gamma * C**2 /(lam **2 * (N - np.arange(n)))) for n in supported_removals]\n",
    "batch_theoretic_norm = [np.sum(4 * gamma * m ** 2 * C**2 /(lam **2 * (N - np.arange(n)*m))) for n in supported_removals // 10]\n"
   ]
  },
  {
   "cell_type": "code",
   "execution_count": 9,
   "metadata": {},
   "outputs": [],
   "source": [
    "# read data dependent norms \n",
    "data_dependent_norms = np.loadtxt(\"Results/figure2_data_norms.txt\")\n",
    "single_removal_norm = data_dependent_norms[:, 0]\n",
    "batch_removal_norm = data_dependent_norms[:, 1]\n"
   ]
  },
  {
   "cell_type": "markdown",
   "metadata": {},
   "source": [
    "## Plot time "
   ]
  },
  {
   "cell_type": "code",
   "execution_count": 10,
   "metadata": {},
   "outputs": [
    {
     "name": "stderr",
     "output_type": "stream",
     "text": [
      "The PostScript backend does not support transparency; partially transparent artists will be rendered opaque.\n"
     ]
    }
   ],
   "source": [
    "%matplotlib qt \n",
    "plt.figure(figsize = (8, 6))\n",
    "\n",
    "plt.plot(supported_removals, single_theoretic_norm, color=[0.5, 0.8, 0.9], label = \"Worst-case single\")\n",
    "plt.plot(supported_removals, batch_theoretic_norm, color=[0.7, 0.85, 0.6], label = \"Worst case batch\")\n",
    "plt.plot(supported_removals, single_removal_norm, color = [0.15, 0.35, 0.5], label = \"Data-dependent single\")\n",
    "plt.plot(supported_removals, batch_removal_norm, color = [0.2, 0.6, 0.35], label = \"Data-dependent batch\")\n",
    "\n",
    "plt.ylabel(\"Gradient Residual Norm\")\n",
    "plt.xlabel(\"# of Removals\")\n",
    "plt.yscale(\"log\")\n",
    "plt.ylim([0.1*1e-4, 1.5e6])\n",
    "plt.yticks([1e-4, 1e-2 ,1e0, 1e2, 1e4, 1e6], [\"$10^{-4}$\", \"$10^{-2}$\", \"$10^{0}$\", \"$10^{2}$\", \"$10^{4}$\", \"$10^{6}$\"])\n",
    "plt.legend()\n",
    "plt.show()\n"
   ]
  }
 ],
 "metadata": {
  "kernelspec": {
   "display_name": "NLP",
   "language": "python",
   "name": "python3"
  },
  "language_info": {
   "codemirror_mode": {
    "name": "ipython",
    "version": 3
   },
   "file_extension": ".py",
   "mimetype": "text/x-python",
   "name": "python",
   "nbconvert_exporter": "python",
   "pygments_lexer": "ipython3",
   "version": "3.9.17"
  }
 },
 "nbformat": 4,
 "nbformat_minor": 2
}
